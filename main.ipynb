{
 "cells": [
  {
   "cell_type": "markdown",
   "metadata": {},
   "source": [
    "# Shallow Copy v/s Deep Copy"
   ]
  },
  {
   "cell_type": "code",
   "execution_count": 1,
   "metadata": {},
   "outputs": [],
   "source": [
    "import copy"
   ]
  },
  {
   "cell_type": "code",
   "execution_count": 2,
   "metadata": {},
   "outputs": [
    {
     "name": "stdout",
     "output_type": "stream",
     "text": [
      "list1: [1, 2, 3, 4, 5]\n",
      "list2: [1, 2, 3, 4, 5]\n"
     ]
    }
   ],
   "source": [
    "# \"=\" operation\n",
    "list1 = [1, 2, 3, 4, 5]\n",
    "# Creating a new list2 with the same elements as 'list1'\n",
    "list2 = list1\n",
    "print(\"list1:\", list1)\n",
    "print(\"list2:\", list2)"
   ]
  },
  {
   "cell_type": "code",
   "execution_count": 3,
   "metadata": {},
   "outputs": [
    {
     "name": "stdout",
     "output_type": "stream",
     "text": [
      "list1: [1, 2, 3, 4, 5, 6]\n",
      "list2: [1, 2, 3, 4, 5, 6]\n"
     ]
    }
   ],
   "source": [
    "# Let's modify list1\n",
    "list1.append(6)\n",
    "\n",
    "print(\"list1:\", list1)\n",
    "print(\"list2:\", list2)"
   ]
  },
  {
   "cell_type": "markdown",
   "metadata": {},
   "source": [
    "* When we use the = operator to assign list1 to list2, not creating a new list; instead, creating a new reference to the same list in memory. Both list1 and list2 point to the same list object.\n",
    "* This means that any changes made to the list through either list1 or list2 will affect the same underlying list. \n",
    "\n",
    "So, both list1 and list2 are pointing to the same memory location where the list [1, 2, 3, 4, 5] is stored."
   ]
  },
  {
   "cell_type": "markdown",
   "metadata": {},
   "source": [
    "### Shallow Copy"
   ]
  },
  {
   "cell_type": "code",
   "execution_count": 4,
   "metadata": {},
   "outputs": [
    {
     "name": "stdout",
     "output_type": "stream",
     "text": [
      "list1: [1, 2, 3, 4, 5]\n",
      "list2: [1, 2, 3, 4, 5]\n"
     ]
    }
   ],
   "source": [
    "# Shallow Copy\n",
    "list1 = [1, 2, 3, 4, 5]\n",
    "# Creating shallow copy \n",
    "list2 = copy.copy(list1)\n",
    "print(\"list1:\", list1)\n",
    "print(\"list2:\", list2)"
   ]
  },
  {
   "cell_type": "code",
   "execution_count": 5,
   "metadata": {},
   "outputs": [
    {
     "name": "stdout",
     "output_type": "stream",
     "text": [
      "list1: [1, 2, 3, 4, 5, 6]\n",
      "list2: [1, 2, 3, 4, 5]\n"
     ]
    }
   ],
   "source": [
    "# Let's modify list1\n",
    "list1.append(6)\n",
    "\n",
    "print(\"list1:\", list1)\n",
    "print(\"list2:\", list2)"
   ]
  },
  {
   "cell_type": "markdown",
   "metadata": {},
   "source": [
    "in this list2 is a shallow copy of list1 and does not get updated when list1 is modified. BUT !"
   ]
  },
  {
   "cell_type": "code",
   "execution_count": 6,
   "metadata": {},
   "outputs": [
    {
     "name": "stdout",
     "output_type": "stream",
     "text": [
      "list1: [[1, 2, 3], [4, 5, 6]]\n",
      "list2: [[1, 2, 3], [4, 5, 6]]\n"
     ]
    }
   ],
   "source": [
    "list1 = [[1,2,3],[4,5,6]]\n",
    "# Creating shallow copy \n",
    "list2 = copy.copy(list1)\n",
    "print(\"list1:\", list1)\n",
    "print(\"list2:\", list2)\n"
   ]
  },
  {
   "cell_type": "code",
   "execution_count": 7,
   "metadata": {},
   "outputs": [
    {
     "name": "stdout",
     "output_type": "stream",
     "text": [
      "list1: [[1, 2, 3], [4, 5, 6, 7]]\n",
      "list2: [[1, 2, 3], [4, 5, 6, 7]]\n"
     ]
    }
   ],
   "source": [
    "# Let's modify list1\n",
    "list1[1].append(7)\n",
    "print(\"list1:\", list1)\n",
    "print(\"list2:\", list2)"
   ]
  },
  {
   "cell_type": "markdown",
   "metadata": {},
   "source": [
    "Since list2 is a shallow copy of list1, changes to the inner lists of list1 will reflect in list2.\n",
    "\n",
    "* A shallow copy of a list (or any mutable object) creates a new list, but the elements inside the list are still references to the same objects in memory."
   ]
  },
  {
   "cell_type": "markdown",
   "metadata": {},
   "source": [
    "### Deep copy"
   ]
  },
  {
   "cell_type": "code",
   "execution_count": 8,
   "metadata": {},
   "outputs": [
    {
     "name": "stdout",
     "output_type": "stream",
     "text": [
      "list1: [[1, 2, 3], [4, 5, 6]]\n",
      "list2: [[1, 2, 3], [4, 5, 6]]\n"
     ]
    }
   ],
   "source": [
    "list1 = [[1,2,3],[4,5,6]]\n",
    "# Creating Deep copy \n",
    "list2 = copy.deepcopy(list1)\n",
    "print(\"list1:\", list1)\n",
    "print(\"list2:\", list2)"
   ]
  },
  {
   "cell_type": "code",
   "execution_count": 9,
   "metadata": {},
   "outputs": [
    {
     "name": "stdout",
     "output_type": "stream",
     "text": [
      "list1: [[1, 2, 3], [4, 5, 6, 7]]\n",
      "list2: [[1, 2, 3], [4, 5, 6]]\n"
     ]
    }
   ],
   "source": [
    "# Let's modify list1\n",
    "list1[1].append(7)\n",
    "print(\"list1:\", list1)\n",
    "print(\"list2:\", list2)"
   ]
  },
  {
   "cell_type": "markdown",
   "metadata": {},
   "source": [
    "This shows that modifying list1 does not affect list2, confirming that list2 is indeed a deep copy of list1.\n",
    "\n",
    "* In Python, copy.deepcopy() creates a new deep copy of an object, including all nested objects, recursively this means  copied all fully independently"
   ]
  }
 ],
 "metadata": {
  "kernelspec": {
   "display_name": "base",
   "language": "python",
   "name": "python3"
  },
  "language_info": {
   "codemirror_mode": {
    "name": "ipython",
    "version": 3
   },
   "file_extension": ".py",
   "mimetype": "text/x-python",
   "name": "python",
   "nbconvert_exporter": "python",
   "pygments_lexer": "ipython3",
   "version": "3.11.7"
  }
 },
 "nbformat": 4,
 "nbformat_minor": 2
}
